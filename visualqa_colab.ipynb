{
 "cells": [
  {
   "cell_type": "markdown",
   "metadata": {
    "id": "4XWTEexVbAYf"
   },
   "source": [
    "#**Setup** \r\n",
    "Clone repo, install dependencies and check PyTorch and GPU."
   ]
  },
  {
   "cell_type": "code",
   "execution_count": null,
   "metadata": {
    "colab": {
     "base_uri": "https://localhost:8080/"
    },
    "id": "9ct08PM-aBmt",
    "executionInfo": {
     "status": "ok",
     "timestamp": 1.609062828955E12,
     "user_tz": -120.0,
     "elapsed": 12088.0,
     "user": {
      "displayName": "Serhii Levitsky",
      "photoUrl": "",
      "userId": "15154878146403770740"
     }
    },
    "outputId": "cd7327f3-0c61-45d2-9ff1-1de1301637b2"
   },
   "outputs": [
    {
     "name": "stdout",
     "output_type": "stream",
     "text": [
      "Collecting gensim==4.0.0b0\n",
      "\u001b[?25l  Downloading https://files.pythonhosted.org/packages/16/4a/c529159de5a417eb2f574941ccd9f937a47cafffaf1a3e485c6e2a8a4153/gensim-4.0.0b0-cp36-cp36m-manylinux1_x86_64.whl (24.0MB)\n",
      "\u001b[K     |████████████████████████████████| 24.0MB 133kB/s \n",
      "\u001b[?25hRequirement already satisfied, skipping upgrade: scipy>=0.18.1 in /usr/local/lib/python3.6/dist-packages (from gensim==4.0.0b0) (1.4.1)\n",
      "Requirement already satisfied, skipping upgrade: dataclasses; python_version < \"3.7\" in /usr/local/lib/python3.6/dist-packages (from gensim==4.0.0b0) (0.8)\n",
      "Requirement already satisfied, skipping upgrade: numpy>=1.11.3 in /usr/local/lib/python3.6/dist-packages (from gensim==4.0.0b0) (1.19.4)\n",
      "Requirement already satisfied, skipping upgrade: smart-open>=1.8.1 in /usr/local/lib/python3.6/dist-packages (from gensim==4.0.0b0) (4.0.1)\n",
      "Installing collected packages: gensim\n",
      "  Found existing installation: gensim 3.6.0\n",
      "    Uninstalling gensim-3.6.0:\n",
      "      Successfully uninstalled gensim-3.6.0\n",
      "Successfully installed gensim-4.0.0b0\n",
      "Requirement already satisfied: opencv-python in /usr/local/lib/python3.6/dist-packages (4.1.2.30)\n",
      "Requirement already satisfied: numpy>=1.11.3 in /usr/local/lib/python3.6/dist-packages (from opencv-python) (1.19.4)\n"
     ]
    }
   ],
   "source": [
    "!pip install --upgrade gensim==4.0.0b0\r\n",
    "!pip install opencv-python"
   ]
  },
  {
   "cell_type": "code",
   "execution_count": null,
   "metadata": {
    "colab": {
     "base_uri": "https://localhost:8080/"
    },
    "id": "PoC9OGzUcEZ0",
    "executionInfo": {
     "status": "ok",
     "timestamp": 1.60907032718E12,
     "user_tz": -120.0,
     "elapsed": 1768.0,
     "user": {
      "displayName": "Serhii Levitsky",
      "photoUrl": "",
      "userId": "15154878146403770740"
     }
    },
    "outputId": "f9358f7d-69ce-493b-cb00-31ce4b0b6fd2"
   },
   "outputs": [
    {
     "name": "stdout",
     "output_type": "stream",
     "text": [
      "Cloning into 'visual_qa'...\n",
      "remote: Enumerating objects: 181, done.\u001b[K\n",
      "remote: Counting objects: 100% (181/181), done.\u001b[K\n",
      "remote: Compressing objects: 100% (116/116), done.\u001b[K\n",
      "remote: Total 181 (delta 105), reused 132 (delta 59), pack-reused 0\u001b[K\n",
      "Receiving objects: 100% (181/181), 27.76 KiB | 5.55 MiB/s, done.\n",
      "Resolving deltas: 100% (105/105), done.\n"
     ]
    }
   ],
   "source": [
    "!git clone https://github.com/glad-gradient/visual_qa.git"
   ]
  },
  {
   "cell_type": "code",
   "execution_count": null,
   "metadata": {
    "colab": {
     "base_uri": "https://localhost:8080/"
    },
    "id": "CsZN8JxUcHYM",
    "executionInfo": {
     "status": "ok",
     "timestamp": 1.60907033542E12,
     "user_tz": -120.0,
     "elapsed": 3441.0,
     "user": {
      "displayName": "Serhii Levitsky",
      "photoUrl": "",
      "userId": "15154878146403770740"
     }
    },
    "outputId": "9a4bc716-2491-43f0-dd67-23063a1851ea"
   },
   "outputs": [
    {
     "name": "stdout",
     "output_type": "stream",
     "text": [
      "Setup complete. Using torch 1.7.0+cu101 _CudaDeviceProperties(name='Tesla P100-PCIE-16GB', major=6, minor=0, total_memory=16280MB, multi_processor_count=56)\n"
     ]
    }
   ],
   "source": [
    "import sys\r\n",
    "sys.path.append('visual_qa/')\r\n",
    "\r\n",
    "from IPython.display import clear_output\r\n",
    "\r\n",
    "import json\r\n",
    "from glob import glob\r\n",
    "import logging\r\n",
    "import os\r\n",
    "import time\r\n",
    "import matplotlib.pyplot as plt\r\n",
    "from multiprocessing import cpu_count\r\n",
    "\r\n",
    "import numpy as np\r\n",
    "from gensim import downloader\r\n",
    "import torch\r\n",
    "import torchvision\r\n",
    "import cv2\r\n",
    "import nltk\r\n",
    "nltk.download('popular')\r\n",
    "from nltk.tokenize import word_tokenize\r\n",
    "from google.colab import drive\r\n",
    "\r\n",
    "\r\n",
    "from visual_qa.utils.build_vocabs import Vocabulary, AnswerVocabulary\r\n",
    "from visual_qa.utils.data_preparation import DataGenerator\r\n",
    "from visual_qa.model import ImageEncoder, QuestionEncoder, VisualQAModel\r\n",
    "from visual_qa.utils.misc import configs\r\n",
    "from visual_qa.utils.enums import Modes\r\n",
    "\r\n",
    "clear_output()\r\n",
    "print('Setup complete. Using torch %s %s' % (torch.__version__, torch.cuda.get_device_properties(0) if torch.cuda.is_available() else 'CPU'))"
   ]
  },
  {
   "cell_type": "code",
   "execution_count": null,
   "metadata": {
    "colab": {
     "base_uri": "https://localhost:8080/"
    },
    "id": "PMN3pA2kcKFk",
    "executionInfo": {
     "status": "ok",
     "timestamp": 1.609062885341E12,
     "user_tz": -120.0,
     "elapsed": 20618.0,
     "user": {
      "displayName": "Serhii Levitsky",
      "photoUrl": "",
      "userId": "15154878146403770740"
     }
    },
    "outputId": "132c7188-ae83-4481-ea0b-2cb857d823f7"
   },
   "outputs": [
    {
     "name": "stdout",
     "output_type": "stream",
     "text": [
      "Mounted at /content/gdrive\n"
     ]
    }
   ],
   "source": [
    "# mount Google Drive\r\n",
    "drive.mount('/content/gdrive')\r\n",
    "\r\n",
    "!ln -s \"/content/gdrive/My Drive\" \"/content/mydrive\""
   ]
  },
  {
   "cell_type": "code",
   "execution_count": null,
   "metadata": {
    "colab": {
     "base_uri": "https://localhost:8080/"
    },
    "id": "xThNHRhZcSL2",
    "executionInfo": {
     "status": "ok",
     "timestamp": 1.609062888086E12,
     "user_tz": -120.0,
     "elapsed": 745.0,
     "user": {
      "displayName": "Serhii Levitsky",
      "photoUrl": "",
      "userId": "15154878146403770740"
     }
    },
    "outputId": "5534ba55-5e71-4b5c-d78a-b4b9bd2f044f"
   },
   "outputs": [
    {
     "name": "stdout",
     "output_type": "stream",
     "text": [
      "***** Model checkpoint directory: /content/mydrive/Projects/VQA/models *****\n"
     ]
    }
   ],
   "source": [
    "ROOT_DIR_PATH = \"/content/mydrive/Projects/VQA\"\r\n",
    "CHECKPOINT_DIR = '{}/{}'.format(ROOT_DIR_PATH, 'models')\r\n",
    "\r\n",
    "DATA_DIR = '/content/data'\r\n",
    "CONFIG_FILE = '/content/visual_qa/configs.json'\r\n",
    "\r\n",
    "print('***** Model checkpoint directory: {} *****'.format(CHECKPOINT_DIR))"
   ]
  },
  {
   "cell_type": "code",
   "execution_count": null,
   "metadata": {
    "id": "J7CFLfvZcVbt"
   },
   "outputs": [],
   "source": [
    "! mkdir logs\r\n",
    "! mkdir data\r\n",
    "! mkdir data/images\r\n",
    "! mkdir data/questions\r\n",
    "! mkdir data/answers"
   ]
  },
  {
   "cell_type": "markdown",
   "metadata": {
    "id": "TqCck8XlcXbt"
   },
   "source": [
    "#**Download data**"
   ]
  },
  {
   "cell_type": "code",
   "execution_count": null,
   "metadata": {
    "id": "LiHP8PkQcZ20"
   },
   "outputs": [],
   "source": [
    "def download_vqa(data_dir, load_train=True, load_valid=True, load_test=False):\r\n",
    "    image_dir = f'{data_dir}/images'\r\n",
    "    question_dir = f'{data_dir}/questions'\r\n",
    "    answer_dir = f'{data_dir}/answers'\r\n",
    "\r\n",
    "    # Download and unzip images\r\n",
    "    if load_train:\r\n",
    "        os.system(f'wget http://images.cocodataset.org/zips/train2014.zip -P {image_dir}')\r\n",
    "        os.system(f'unzip {image_dir}/train2014.zip -d {image_dir}/')\r\n",
    "\r\n",
    "        ! rm /content/data/images/train2014.zip\r\n",
    "\r\n",
    "    if load_valid:\r\n",
    "        os.system(f'wget http://images.cocodataset.org/zips/val2014.zip -P {image_dir}')\r\n",
    "        os.system(f'unzip {image_dir}/val2014.zip -d {image_dir}/')\r\n",
    "        \r\n",
    "        ! rm /content/data/images/val2014.zip\r\n",
    "\r\n",
    "    if load_test:\r\n",
    "        os.system(f'wget http://images.cocodataset.org/zips/test2015.zip -P {image_dir}')\r\n",
    "        os.system(f'unzip {image_dir}/test2015.zip -d {image_dir}/')\r\n",
    "\r\n",
    "    # Download and unzip the VQA Questions\r\n",
    "    if load_train:\r\n",
    "        os.system(f'wget https://s3.amazonaws.com/cvmlp/vqa/mscoco/vqa/v2_Questions_Train_mscoco.zip -P {question_dir}')\r\n",
    "        os.system(f'unzip {question_dir}/v2_Questions_Train_mscoco.zip -d {question_dir}')\r\n",
    "\r\n",
    "        ! rm /content/data/questions/v2_Questions_Train_mscoco.zip\r\n",
    "\r\n",
    "    if load_valid:\r\n",
    "        os.system(f'wget https://s3.amazonaws.com/cvmlp/vqa/mscoco/vqa/v2_Questions_Val_mscoco.zip -P {question_dir}')\r\n",
    "        os.system(f'unzip {question_dir}/v2_Questions_Val_mscoco.zip -d {question_dir}')\r\n",
    "\r\n",
    "        ! rm /content/data/questions/v2_Questions_Val_mscoco.zip\r\n",
    "\r\n",
    "    if load_test:\r\n",
    "        os.system(f'wget https://s3.amazonaws.com/cvmlp/vqa/mscoco/vqa/v2_Questions_Test_mscoco.zip -P {question_dir}')\r\n",
    "        os.system(f'unzip {question_dir}/v2_Questions_Test_mscoco.zip -d {question_dir}')\r\n",
    "\r\n",
    "    # Download and unzip the VQA Annotations\r\n",
    "    if load_train:\r\n",
    "        os.system(f'wget https://s3.amazonaws.com/cvmlp/vqa/mscoco/vqa/v2_Annotations_Train_mscoco.zip -P {answer_dir}')\r\n",
    "        os.system(f'unzip {answer_dir}/v2_Annotations_Train_mscoco.zip -d {answer_dir}')\r\n",
    "\r\n",
    "        ! rm /content/data/answers/v2_Annotations_Train_mscoco.zip\r\n",
    "\r\n",
    "    if load_valid:\r\n",
    "        os.system(f'wget https://s3.amazonaws.com/cvmlp/vqa/mscoco/vqa/v2_Annotations_Val_mscoco.zip -P {answer_dir}')\r\n",
    "        os.system(f'unzip {answer_dir}/v2_Annotations_Val_mscoco.zip -d {answer_dir}')\r\n",
    "\r\n",
    "        ! rm /content/data/answers/v2_Annotations_Val_mscoco.zip"
   ]
  },
  {
   "cell_type": "code",
   "execution_count": null,
   "metadata": {
    "id": "lKVP3LoucgoF"
   },
   "outputs": [],
   "source": [
    "download_vqa(data_dir=DATA_DIR, load_train=True, load_valid=True, load_test=False)"
   ]
  },
  {
   "cell_type": "markdown",
   "metadata": {
    "id": "x2RfR94wcmw-"
   },
   "source": [
    "#**Training**"
   ]
  },
  {
   "cell_type": "code",
   "execution_count": null,
   "metadata": {
    "colab": {
     "base_uri": "https://localhost:8080/"
    },
    "id": "CYGR1IYucmDG",
    "outputId": "4756ae88-193f-4429-b15e-f1c3021c5f82"
   },
   "outputs": [
    {
     "name": "stdout",
     "output_type": "stream",
     "text": [
      "INFO:gensim.models.keyedvectors:loading projection weights from /root/gensim-data/word2vec-google-news-300/word2vec-google-news-300.gz\n",
      "tcmalloc: large alloc 3600007168 bytes == 0x7f1e000 @  0x7f6acacc6001 0x7f6ac76d34ff 0x7f6ac7723ab8 0x7f6ac7727bb7 0x7f6ac77c6003 0x50a4a5 0x50cc96 0x507be4 0x508ec2 0x594a01 0x549e8f 0x5515c1 0x5a9dac 0x50a433 0x50cc96 0x507be4 0x509900 0x50a2fd 0x50cc96 0x507be4 0x509900 0x50a2fd 0x50cc96 0x5095c8 0x50a2fd 0x50beb4 0x507be4 0x509900 0x50a2fd 0x50beb4 0x5095c8\n",
      "INFO:gensim.models.keyedvectors:loaded (3000000, 300) matrix from /root/gensim-data/word2vec-google-news-300/word2vec-google-news-300.gz\n",
      "INFO:Main:Vocabularies building...\n",
      "INFO:Main:Vocabularies have been built.\n",
      "INFO:Main:Train dataset has been created.\n",
      "INFO:Main:Validation dataset has been created.\n",
      "INFO:Main:VisualQA model has been created.\n",
      "INFO:Trainer:Trainer is ready. Device is cuda\n",
      "INFO:Trainer:Step 0, loss: 6.91543, time: 5.60653\n",
      "INFO:Trainer:Step 300, loss: 4.15059, time: 355.72078\n",
      "INFO:Trainer:Step 600, loss: 4.13885, time: 698.05547\n",
      "INFO:Trainer:Step 900, loss: 4.15160, time: 1036.49985\n",
      "INFO:Trainer:Step 1200, loss: 4.15957, time: 1374.14506\n",
      "INFO:Trainer:Step 1500, loss: 2.96641, time: 1712.14816\n",
      "INFO:Trainer:[RESULT]: Train. Epoch: 0/10 loss: 3.96401 acc: 0.27198 time: 1971.46664\n",
      "tcmalloc: large alloc 3600007168 bytes == 0x7f67176c4000 @  0x7f6acacc6887 0x7f6aa39c2280 0x7f6aa398443a 0x50a12f 0x50beb4 0x507be4 0x509900 0x50a2fd 0x50beb4 0x507be4 0x509900 0x50a2fd 0x50beb4 0x5095c8 0x50a2fd 0x50beb4 0x507be4 0x509900 0x50a2fd 0x50beb4 0x5095c8 0x50a2fd 0x50beb4 0x507be4 0x50ad03 0x634e72 0x634f27 0x6386df 0x639281 0x4b0dc0 0x7f6aca8c1bf7\n",
      "tcmalloc: large alloc 2147491840 bytes == 0x7f66576c0000 @  0x7f6acacc52a4 0x591e47 0x4cc179 0x4cc2db 0x566a71 0x5a4cd1 0x630bbd 0x7f6aa38d9c50 0x7f6aa38ddef7 0x7f6aa39c23e8 0x7f6aa398443a 0x50a12f 0x50beb4 0x507be4 0x509900 0x50a2fd 0x50beb4 0x507be4 0x509900 0x50a2fd 0x50beb4 0x5095c8 0x50a2fd 0x50beb4 0x507be4 0x509900 0x50a2fd 0x50beb4 0x5095c8 0x50a2fd 0x50beb4\n",
      "tcmalloc: large alloc 3221233664 bytes == 0x7f65976be000 @  0x7f6acacc52a4 0x591e47 0x4cc179 0x4cc2db 0x566a71 0x5a4cd1 0x630bbd 0x7f6aa38d9c50 0x7f6aa38ddef7 0x7f6aa39c23e8 0x7f6aa398443a 0x50a12f 0x50beb4 0x507be4 0x509900 0x50a2fd 0x50beb4 0x507be4 0x509900 0x50a2fd 0x50beb4 0x5095c8 0x50a2fd 0x50beb4 0x507be4 0x509900 0x50a2fd 0x50beb4 0x5095c8 0x50a2fd 0x50beb4\n",
      "tcmalloc: large alloc 4050001920 bytes == 0x7f64a605c000 @  0x7f6acacc52a4 0x591e47 0x4cc179 0x4cc2db 0x566a71 0x5a4cd1 0x630bbd 0x7f6aa38d9c50 0x7f6aa38ddef7 0x7f6aa39c23e8 0x7f6aa398443a 0x50a12f 0x50beb4 0x507be4 0x509900 0x50a2fd 0x50beb4 0x507be4 0x509900 0x50a2fd 0x50beb4 0x5095c8 0x50a2fd 0x50beb4 0x507be4 0x509900 0x50a2fd 0x50beb4 0x5095c8 0x50a2fd 0x50beb4\n",
      "tcmalloc: large alloc 3600007168 bytes == 0x7f65976be000 @  0x7f6acacc6887 0x7f6ac95bcc29 0x7f6ac95bcd47 0x7f6ac95be7a5 0x7f6aa36014f8 0x7f6aa374b131 0x7f6aa33c9c1a 0x566bbc 0x50a433 0x50beb4 0x507be4 0x509900 0x50a2fd 0x50beb4 0x507be4 0x509900 0x50a2fd 0x50beb4 0x5095c8 0x50a2fd 0x50beb4 0x507be4 0x509900 0x50a2fd 0x50beb4 0x5095c8 0x50a2fd 0x50beb4 0x507be4 0x50ad03 0x634e72\n",
      "tcmalloc: large alloc 3600007168 bytes == 0x7f666dffa000 @  0x7f6acacc41e7 0x59211c 0x7f6aa373d337 0x7f6a944a4435 0x7f6a944a099a 0x7f6a944a55d9 0x7f6aa374b1ab 0x7f6aa33c9c1a 0x566bbc 0x50a433 0x50beb4 0x507be4 0x509900 0x50a2fd 0x50beb4 0x507be4 0x509900 0x50a2fd 0x50beb4 0x5095c8 0x50a2fd 0x50beb4 0x507be4 0x509900 0x50a2fd 0x50beb4 0x5095c8 0x50a2fd 0x50beb4 0x507be4 0x50ad03\n",
      "INFO:Trainer:Val Step 0, loss: 2.77517, time: 48.06071\n",
      "INFO:Trainer:[RESULT]: Val. Epoch: 0/10 val_loss: 2.85571 val_acc: 0.38837 time: 3186.99938\n",
      "\n",
      "tcmalloc: large alloc 3600007168 bytes == 0x7f64a605c000 @  0x7f6acacc6887 0x7f6aa39c2280 0x7f6aa398443a 0x50a12f 0x50beb4 0x507be4 0x509900 0x50a2fd 0x50beb4 0x507be4 0x509900 0x50a2fd 0x50beb4 0x5095c8 0x50a2fd 0x50beb4 0x507be4 0x509900 0x50a2fd 0x50beb4 0x5095c8 0x50a2fd 0x50beb4 0x507be4 0x50ad03 0x634e72 0x634f27 0x6386df 0x639281 0x4b0dc0 0x7f6aca8c1bf7\n",
      "tcmalloc: large alloc 3221233664 bytes == 0x7f663c99c000 @  0x7f6acacc52a4 0x591e47 0x4cc179 0x4cc2db 0x566a71 0x5a4cd1 0x630bbd 0x7f6aa38d9c50 0x7f6aa38ddef7 0x7f6aa39c23e8 0x7f6aa398443a 0x50a12f 0x50beb4 0x507be4 0x509900 0x50a2fd 0x50beb4 0x507be4 0x509900 0x50a2fd 0x50beb4 0x5095c8 0x50a2fd 0x50beb4 0x507be4 0x509900 0x50a2fd 0x50beb4 0x5095c8 0x50a2fd 0x50beb4\n",
      "tcmalloc: large alloc 4050001920 bytes == 0x7f66fc99e000 @  0x7f6acacc52a4 0x591e47 0x4cc179 0x4cc2db 0x566a71 0x5a4cd1 0x630bbd 0x7f6aa38d9c50 0x7f6aa38ddef7 0x7f6aa39c23e8 0x7f6aa398443a 0x50a12f 0x50beb4 0x507be4 0x509900 0x50a2fd 0x50beb4 0x507be4 0x509900 0x50a2fd 0x50beb4 0x5095c8 0x50a2fd 0x50beb4 0x507be4 0x509900 0x50a2fd 0x50beb4 0x5095c8 0x50a2fd 0x50beb4\n",
      "tcmalloc: large alloc 3600007168 bytes == 0x7f64a605c000 @  0x7f6acacc6887 0x7f6ac95bcc29 0x7f6ac95bcd47 0x7f6ac95be7a5 0x7f6aa36014f8 0x7f6aa374b131 0x7f6aa33c9c1a 0x566bbc 0x50a433 0x50beb4 0x507be4 0x509900 0x50a2fd 0x50beb4 0x507be4 0x509900 0x50a2fd 0x50beb4 0x5095c8 0x50a2fd 0x50beb4 0x507be4 0x509900 0x50a2fd 0x50beb4 0x5095c8 0x50a2fd 0x50beb4 0x507be4 0x50ad03 0x634e72\n",
      "INFO:Trainer:Step 0, loss: 2.96894, time: 48.99713\n",
      "INFO:Trainer:Step 300, loss: 2.92410, time: 1156.27449\n",
      "INFO:Trainer:Step 600, loss: 2.69174, time: 1669.42798\n",
      "INFO:Trainer:Step 900, loss: 2.67222, time: 2085.61141\n",
      "INFO:Trainer:Step 1200, loss: 3.26271, time: 2501.26711\n",
      "INFO:Trainer:Step 1500, loss: 2.76868, time: 2916.22500\n",
      "INFO:Trainer:[RESULT]: Train. Epoch: 1/10 loss: 2.87507 acc: 0.38019 time: 3232.16269\n",
      "tcmalloc: large alloc 4050001920 bytes == 0x7f66fc99e000 @  0x7f6acacc52a4 0x591e47 0x4cc179 0x4cc2db 0x566a71 0x5a4cd1 0x630bbd 0x7f6aa38d9c50 0x7f6aa38ddef7 0x7f6aa39c23e8 0x7f6aa398443a 0x50a12f 0x50beb4 0x507be4 0x509900 0x50a2fd 0x50beb4 0x507be4 0x509900 0x50a2fd 0x50beb4 0x5095c8 0x50a2fd 0x50beb4 0x507be4 0x509900 0x50a2fd 0x50beb4 0x5095c8 0x50a2fd 0x50beb4\n",
      "INFO:Trainer:Val Step 0, loss: 2.71009, time: 53.28668\n",
      "INFO:Trainer:[RESULT]: Val. Epoch: 1/10 val_loss: 2.67246 val_acc: 0.41136 time: 4476.81858\n",
      "\n",
      "INFO:Trainer:Step 0, loss: 2.80256, time: 45.57146\n",
      "INFO:Trainer:Step 300, loss: 2.66128, time: 927.08329\n",
      "INFO:Trainer:Step 600, loss: 2.60222, time: 1346.76864\n",
      "INFO:Trainer:Step 900, loss: 2.45325, time: 1759.21043\n",
      "INFO:Trainer:Step 1200, loss: 2.77459, time: 2168.25653\n",
      "INFO:Trainer:Step 1500, loss: 2.47752, time: 2577.67299\n",
      "INFO:Trainer:[RESULT]: Train. Epoch: 2/10 loss: 2.59717 acc: 0.41154 time: 2889.78676\n",
      "INFO:Trainer:Val Step 0, loss: 2.45262, time: 49.77342\n",
      "INFO:Trainer:[RESULT]: Val. Epoch: 2/10 val_loss: 2.45266 val_acc: 0.43090 time: 4127.22783\n",
      "\n",
      "INFO:Trainer:Step 0, loss: 2.78911, time: 45.68366\n",
      "INFO:Trainer:Step 300, loss: 2.47331, time: 725.16327\n",
      "INFO:Trainer:Step 600, loss: 2.22730, time: 1195.08584\n",
      "INFO:Trainer:Step 900, loss: 2.39801, time: 1670.61455\n",
      "INFO:Trainer:Step 1200, loss: 2.44474, time: 2148.11240\n",
      "INFO:Trainer:Step 1500, loss: 2.33870, time: 2555.30927\n",
      "INFO:Trainer:[RESULT]: Train. Epoch: 3/10 loss: 2.44779 acc: 0.43240 time: 2867.50007\n",
      "INFO:Trainer:Val Step 0, loss: 2.37119, time: 50.15511\n",
      "INFO:Trainer:[RESULT]: Val. Epoch: 3/10 val_loss: 2.35447 val_acc: 0.44989 time: 4117.42961\n",
      "\n",
      "INFO:Trainer:Step 0, loss: 2.25915, time: 45.16830\n",
      "INFO:Trainer:Step 300, loss: 2.40623, time: 934.46010\n",
      "INFO:Trainer:Step 600, loss: 2.41482, time: 1346.98278\n",
      "INFO:Trainer:Step 900, loss: 2.42050, time: 1752.06054\n",
      "INFO:Trainer:Step 1200, loss: 2.22155, time: 2158.37325\n",
      "INFO:Trainer:Step 1500, loss: 2.22654, time: 2563.94471\n",
      "INFO:Trainer:[RESULT]: Train. Epoch: 4/10 loss: 2.36634 acc: 0.44500 time: 2874.04675\n",
      "INFO:Trainer:Val Step 0, loss: 2.39106, time: 48.07660\n",
      "INFO:Trainer:[RESULT]: Val. Epoch: 4/10 val_loss: 2.28637 val_acc: 0.46189 time: 4098.62215\n",
      "\n",
      "INFO:Trainer:Step 0, loss: 2.18365, time: 46.62957\n",
      "INFO:Trainer:Step 300, loss: 2.14209, time: 930.82628\n",
      "INFO:Trainer:Step 600, loss: 2.12242, time: 1356.77723\n",
      "INFO:Trainer:Step 900, loss: 2.46105, time: 1773.43145\n",
      "INFO:Trainer:Step 1200, loss: 2.50820, time: 2188.85433\n",
      "INFO:Trainer:Step 1500, loss: 2.39004, time: 2599.93864\n",
      "INFO:Trainer:[RESULT]: Train. Epoch: 5/10 loss: 2.29777 acc: 0.45432 time: 2911.94345\n",
      "INFO:Trainer:Val Step 0, loss: 2.08568, time: 47.71162\n",
      "INFO:Trainer:[RESULT]: Val. Epoch: 5/10 val_loss: 2.25458 val_acc: 0.46804 time: 4180.97177\n",
      "\n",
      "INFO:Trainer:Step 0, loss: 2.08331, time: 45.05537\n",
      "INFO:Trainer:Step 300, loss: 2.32139, time: 960.90549\n",
      "INFO:Trainer:Step 600, loss: 2.20970, time: 1398.77501\n",
      "INFO:Trainer:Step 900, loss: 2.38038, time: 1847.18812\n",
      "INFO:Trainer:Step 1200, loss: 1.99830, time: 2295.55559\n",
      "INFO:Trainer:Step 1500, loss: 2.25748, time: 2744.71680\n",
      "INFO:Trainer:[RESULT]: Train. Epoch: 6/10 loss: 2.26607 acc: 0.45954 time: 3082.05671\n",
      "INFO:Trainer:Val Step 0, loss: 2.25378, time: 49.50230\n"
     ]
    }
   ],
   "source": [
    "!python visual_qa/train.py \\\r\n",
    "--checkpoint_dir=$CHECKPOINT_DIR \\\r\n",
    "--log_dir='/content/logs' \\\r\n",
    "--image_dir=$DATA_DIR/images \\\r\n",
    "--question_dir=$DATA_DIR/questions \\\r\n",
    "--answer_dir=$DATA_DIR/answers \\\r\n",
    "--config_file=$CONFIG_FILE \\\r\n",
    "--batch_size=256 \\\r\n",
    "--num_epochs=10 \\\r\n",
    "--verbose_step=300"
   ]
  },
  {
   "cell_type": "code",
   "execution_count": null,
   "metadata": {
    "id": "1kZZp8X4qEvY"
   },
   "outputs": [],
   "source": [
    ""
   ]
  },
  {
   "cell_type": "code",
   "execution_count": null,
   "metadata": {
    "id": "gdcCMB6oc18e"
   },
   "outputs": [],
   "source": [
    "# ! rm -rf visual_qa"
   ]
  }
 ],
 "metadata": {
  "colab": {
   "name": "Copy of btc_simple_cnn_classifier_volume_bars_statistics_25GbRAM.ipynb",
   "provenance": [
    {
     "file_id": "1jyHZe96L3eQzkgVU6NNBLbShX4zJQV5V",
     "timestamp": 1.581764612905E12
    }
   ],
   "collapsed_sections": [],
   "toc_visible": true,
   "machine_shape": "hm"
  },
  "kernelspec": {
   "name": "python3",
   "display_name": "Python 3"
  },
  "accelerator": "GPU"
 },
 "nbformat": 4,
 "nbformat_minor": 0
}
